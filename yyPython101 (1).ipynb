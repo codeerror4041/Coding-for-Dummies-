{
  "nbformat": 4,
  "nbformat_minor": 0,
  "metadata": {
    "colab": {
      "name": "yyPython101.ipynb",
      "provenance": [],
      "collapsed_sections": []
    },
    "kernelspec": {
      "name": "python3",
      "display_name": "Python 3"
    },
    "language_info": {
      "name": "python"
    }
  },
  "cells": [
    {
      "cell_type": "markdown",
      "source": [
        "Hello you!"
      ],
      "metadata": {
        "id": "wfDacRedz-9N"
      }
    },
    {
      "cell_type": "markdown",
      "source": [
        "\n",
        "```\n",
        "def main():\n",
        "  print(\"hello, world!\")\n",
        "```\n",
        "\n"
      ],
      "metadata": {
        "id": "OhL-1JuILJb1"
      }
    },
    {
      "cell_type": "code",
      "execution_count": null,
      "metadata": {
        "id": "EgkJu7WRzt45",
        "colab": {
          "base_uri": "https://localhost:8080/"
        },
        "outputId": "2465ed1f-cae7-4009-a376-638c80f850cd"
      },
      "outputs": [
        {
          "output_type": "stream",
          "name": "stdout",
          "text": [
            "9\n"
          ]
        }
      ],
      "source": [
        "a = 1+2\n",
        "b = a**2\n",
        "print(b)"
      ]
    },
    {
      "cell_type": "code",
      "source": [
        "\n",
        "def yySum(a,b):\n",
        "  summed = a + b\n",
        "  print(summed)\n",
        "  # return summed\n",
        "\n",
        "def main():\n",
        "  yySum(6,9)\n",
        "  # mySum = yySum(6,9)\n",
        "  # print(mySum)\n",
        "  print(\"hello, nic\")\n",
        "\n",
        "main()"
      ],
      "metadata": {
        "colab": {
          "base_uri": "https://localhost:8080/"
        },
        "id": "pn8X04gUvoJ2",
        "outputId": "19a05a37-9b12-4b07-f84e-38bfa3ee81df"
      },
      "execution_count": null,
      "outputs": [
        {
          "output_type": "stream",
          "name": "stdout",
          "text": [
            "15\n",
            "hello, nic\n"
          ]
        }
      ]
    },
    {
      "cell_type": "code",
      "source": [
        "x = True \n",
        "y = False\n",
        "\n",
        "a = -1\n",
        "b = abs(a)\n",
        "print(b)\n",
        "\n",
        "# this is a comment\n",
        "if x != True:\n",
        "  print(\"x is true\")\n",
        "elif(x == True):\n",
        "  print(\"yuan is cute\")\n",
        "else:\n",
        "  print(\"hi\")\n"
      ],
      "metadata": {
        "colab": {
          "base_uri": "https://localhost:8080/"
        },
        "id": "pXE6TqkB1gVs",
        "outputId": "04a94f0e-0b40-4a1a-9d2d-d89939d68859"
      },
      "execution_count": null,
      "outputs": [
        {
          "output_type": "stream",
          "name": "stdout",
          "text": [
            "1\n",
            "yuan is cute\n"
          ]
        }
      ]
    },
    {
      "cell_type": "code",
      "source": [
        "# on loops\n",
        "# there are 2 ways you can loop stuff\n",
        "# the first is a for loop\n",
        "\n",
        "name = \"nicholas\"\n",
        "for myVar in name:\n",
        "  print(myVar)\n",
        "\n",
        "for i in range(2,7):\n",
        "  print(i)\n"
      ],
      "metadata": {
        "colab": {
          "base_uri": "https://localhost:8080/"
        },
        "id": "8PHuJqWj2tm8",
        "outputId": "02af08ce-cccb-4d55-c2f6-f50e29c5d1c6"
      },
      "execution_count": null,
      "outputs": [
        {
          "output_type": "stream",
          "name": "stdout",
          "text": [
            "2\n",
            "4\n",
            "6\n"
          ]
        }
      ]
    },
    {
      "cell_type": "code",
      "source": [
        "# this is a while loop\n",
        "\n",
        "x = 0\n",
        "while (x < 10):\n",
        "  print(x) \n",
        "  x = x+1\n",
        "\n",
        "!pip install requests\n",
        "import requests\n",
        "\n",
        "!pip install bs4\n",
        "from bs4 import BeautifulSoup"
      ],
      "metadata": {
        "colab": {
          "base_uri": "https://localhost:8080/"
        },
        "id": "3v8XZ4AA4uft",
        "outputId": "6fd0ef12-45df-4b58-f2b7-b42b5ed71edd"
      },
      "execution_count": null,
      "outputs": [
        {
          "output_type": "stream",
          "name": "stdout",
          "text": [
            "0\n",
            "1\n",
            "2\n",
            "3\n",
            "4\n",
            "5\n",
            "6\n",
            "7\n",
            "8\n",
            "9\n",
            "Requirement already satisfied: requests in /usr/local/lib/python3.7/dist-packages (2.23.0)\n",
            "Requirement already satisfied: urllib3!=1.25.0,!=1.25.1,<1.26,>=1.21.1 in /usr/local/lib/python3.7/dist-packages (from requests) (1.24.3)\n",
            "Requirement already satisfied: certifi>=2017.4.17 in /usr/local/lib/python3.7/dist-packages (from requests) (2021.10.8)\n",
            "Requirement already satisfied: idna<3,>=2.5 in /usr/local/lib/python3.7/dist-packages (from requests) (2.10)\n",
            "Requirement already satisfied: chardet<4,>=3.0.2 in /usr/local/lib/python3.7/dist-packages (from requests) (3.0.4)\n",
            "Requirement already satisfied: bs4 in /usr/local/lib/python3.7/dist-packages (0.0.1)\n",
            "Requirement already satisfied: beautifulsoup4 in /usr/local/lib/python3.7/dist-packages (from bs4) (4.6.3)\n"
          ]
        }
      ]
    },
    {
      "cell_type": "code",
      "source": [
        "!pip install requests\n",
        "import requests\n",
        "url = 'https://www.weatherzone.com.au/nsw/sydney/sydney'\n",
        "page = requests.get(url)\n",
        "!pip install bs4\n",
        "from bs4 import BeautifulSoup\n",
        "soup = BeautifulSoup(page.text, 'html.parser')\n",
        "temp = soup.find('p', {'class':'sc-jlZJtj kXOJKM sc-juzAEp fXxYsU'})\n",
        "print(temp)\n",
        "\n",
        "#temp = soup.find('div', {'class':'vk_bk TylWce SGNhVe'})\n",
        "#print(temp)\n",
        "\n",
        "\n",
        "\n"
      ],
      "metadata": {
        "colab": {
          "base_uri": "https://localhost:8080/"
        },
        "id": "AtKUTQrpUrqt",
        "outputId": "53d26c6d-c778-4047-99ad-89454952eb3c"
      },
      "execution_count": 35,
      "outputs": [
        {
          "output_type": "stream",
          "name": "stdout",
          "text": [
            "Requirement already satisfied: requests in /usr/local/lib/python3.7/dist-packages (2.23.0)\n",
            "Requirement already satisfied: idna<3,>=2.5 in /usr/local/lib/python3.7/dist-packages (from requests) (2.10)\n",
            "Requirement already satisfied: urllib3!=1.25.0,!=1.25.1,<1.26,>=1.21.1 in /usr/local/lib/python3.7/dist-packages (from requests) (1.24.3)\n",
            "Requirement already satisfied: chardet<4,>=3.0.2 in /usr/local/lib/python3.7/dist-packages (from requests) (3.0.4)\n",
            "Requirement already satisfied: certifi>=2017.4.17 in /usr/local/lib/python3.7/dist-packages (from requests) (2021.10.8)\n",
            "Requirement already satisfied: bs4 in /usr/local/lib/python3.7/dist-packages (0.0.1)\n",
            "Requirement already satisfied: beautifulsoup4 in /usr/local/lib/python3.7/dist-packages (from bs4) (4.6.3)\n",
            "None\n"
          ]
        }
      ]
    },
    {
      "cell_type": "code",
      "source": [
        "url = 'https://www.weatherzone.com.au/nsw/sydney/sydney'\n",
        "soup = BeautifulSoup(requests.get(url).content)\n",
        "temp = soup.find(\"p\", attrs={'class': 'sc-etTGsB lhdOv'})\n",
        "print(temp)"
      ],
      "metadata": {
        "colab": {
          "base_uri": "https://localhost:8080/"
        },
        "id": "qehuvCKzE7Oy",
        "outputId": "71033008-5d91-421a-826c-7fc2d7f3f47b"
      },
      "execution_count": 33,
      "outputs": [
        {
          "output_type": "stream",
          "name": "stdout",
          "text": [
            "None\n"
          ]
        }
      ]
    },
    {
      "cell_type": "code",
      "source": [
        "url = 'https://www.weatherzone.com.au/nsw/sydney/sydney'\n",
        "soup = BeautifulSoup(requests.get(url).content)\n",
        "temp = soup.find(\"div\", attrs={'class': 'sc-ckTSus fsaJeB sc-jOvNRn ftdNYQ'})\n",
        "print(temp)"
      ],
      "metadata": {
        "colab": {
          "base_uri": "https://localhost:8080/"
        },
        "id": "qFNFv1nCNqki",
        "outputId": "54b08bad-5a5f-4217-8b90-b9c43de7feea"
      },
      "execution_count": 32,
      "outputs": [
        {
          "output_type": "stream",
          "name": "stdout",
          "text": [
            "<div class=\"sc-ckTSus fsaJeB sc-jOvNRn ftdNYQ\" font-size=\"xl01\" font-weight=\"600\" height=\"50px\" width=\"85px\">13<span>°</span>C</div>\n"
          ]
        }
      ]
    }
  ]
}